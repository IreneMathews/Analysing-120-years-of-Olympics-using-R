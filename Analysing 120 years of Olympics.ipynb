{
 "cells": [
  {
   "cell_type": "markdown",
   "metadata": {},
   "source": [
    "# Analysing 120 years of Olympics "
   ]
  },
  {
   "cell_type": "markdown",
   "metadata": {},
   "source": [
    "This notebook deals with deals with the statistical analysis of Olympics 2016 and hence coming out with valuable results, analysis and predictions about the Olympics to come in the later years. Comparison between different countries and the results from different years give important information of the participation from each country and hence the reasons can be understood.\n",
    "\n",
    "The influence of different bodily characteristics is also studied such as height, weight and age; also Time series analysis is done to check the future participation. The R tools used have benefitted for the study and hence drawing conclusions"
   ]
  },
  {
   "cell_type": "markdown",
   "metadata": {},
   "source": [
    "## Introduction\n",
    "The ancient Olympic game was held at Olympia, Greece, from 776 BC through 393 AD. It returned after 1503 years. The first modern Olympic was held in Athens, Greece in 1896. The ‘modern Olympics’ now comprises all the Games from Athens 1896 to Rio 2016. Baron Pierre de Coubertin presented the idea in 1894. There are two long periods without any Games between 1912-1920 and 1936-1948, corresponding to World War I and World War II.\n",
    "\n",
    "\n",
    "The data collected for this paper is from <a href='https://www.kaggle.com/heesoo37/120-years-of-olympic-history-athletes-and-results'>Olympics Kaggle.com </a>, it is about the olypics that has taken place for the 120 years, that is ranging form 1896 to 2016. The latest olympics was on 2018, but due to lack of information about the Olympics 2018, the year was omitted fomr the dataset.\n",
    "\n",
    "The dataset consistes of different charactiers of an olympian namely name, dender, age, height, weight,   team, medals wons, sport, year of participation etc, from 1896 to 2016. \n",
    "\n",
    "From 1992, it became a rule that winter and summer olympics happens only once in 4 years, but the gap betwenn a winter and a summer game is 2 years, that is every two years, winter and summer Olympics happens alternatively. Till 1992, both winter and summer olympics happen in the same year every two years.\n",
    "\n",
    "This paper aims in statistically finding soluitons to the common questions we have about olympics in the past and also doing predictive analysis for the future.\n",
    "\n",
    "The major comparison is between in winter and summer games. The tests can show whether summer or winter have more participants and coming up with logical explanation of why that happens. \n"
   ]
  },
  {
   "cell_type": "markdown",
   "metadata": {},
   "source": [
    "The dataset of 271117 records are taken that involves information about the Participants from the year 1896 to 2016. The data is cleaned to remove the null values\n",
    "\n",
    "### Loading the dataset and omitting the null values\n"
   ]
  },
  {
   "cell_type": "code",
   "execution_count": 1,
   "metadata": {},
   "outputs": [
    {
     "name": "stderr",
     "output_type": "stream",
     "text": [
      "Parsed with column specification:\n",
      "cols(\n",
      "  ID = col_double(),\n",
      "  Name = col_character(),\n",
      "  Sex = col_character(),\n",
      "  Age = col_double(),\n",
      "  Height = col_double(),\n",
      "  Weight = col_double(),\n",
      "  Team = col_character(),\n",
      "  NOC = col_character(),\n",
      "  Games = col_character(),\n",
      "  Year = col_double(),\n",
      "  Season = col_character(),\n",
      "  City = col_character(),\n",
      "  Sport = col_character(),\n",
      "  Event = col_character(),\n",
      "  Medal = col_character()\n",
      ")\n"
     ]
    }
   ],
   "source": [
    "library(readr)\n",
    "athlete_events <- read_csv(\"D:/Irene/123 folder/R/athlete_events.csv\")\n",
    "athlete_events <- na.omit(athlete_events)"
   ]
  },
  {
   "cell_type": "markdown",
   "metadata": {},
   "source": [
    "After cleaning the data, there are now 30181 records. The analysis is done in this dataset.\n",
    "\n",
    "### To check the difference in the participation between each seasons\n"
   ]
  },
  {
   "cell_type": "code",
   "execution_count": 2,
   "metadata": {},
   "outputs": [
    {
     "name": "stderr",
     "output_type": "stream",
     "text": [
      "Warning message:\n",
      "\"package 'dplyr' was built under R version 3.6.2\"\n",
      "Attaching package: 'dplyr'\n",
      "\n",
      "The following objects are masked from 'package:stats':\n",
      "\n",
      "    filter, lag\n",
      "\n",
      "The following objects are masked from 'package:base':\n",
      "\n",
      "    intersect, setdiff, setequal, union\n",
      "\n"
     ]
    }
   ],
   "source": [
    "library(dplyr)"
   ]
  },
  {
   "cell_type": "code",
   "execution_count": 3,
   "metadata": {},
   "outputs": [
    {
     "data": {
      "image/png": "[encoded data removed]",
      "text/plain": [
       "Plot with title \"Participation in summer\""
      ]
     },
     "metadata": {},
     "output_type": "display_data"
    }
   ],
   "source": [
    "summer=filter(athlete_events,Season==\"Summer\")\n",
    "summertbl=table(summer$Year,summer$Medal)\n",
    "c_summertbl=cbind(summertbl[,1]+summertbl[,2]+summertbl[,3])\n",
    "winter=filter(athlete_events,Season==\"Winter\")\n",
    "wintertbl=table(winter$Year,winter$Medal)\n",
    "c_wintertbl=cbind(wintertbl[,1]+wintertbl[,2]+wintertbl[,3])\n",
    "plot(c_summertbl,main=\"Participation in summer\")\n"
   ]
  },
  {
   "cell_type": "code",
   "execution_count": 4,
   "metadata": {},
   "outputs": [
    {
     "data": {
      "image/png": "[encoded data removed]",
      "text/plain": [
       "Plot with title \"Participation in Winter\""
      ]
     },
     "metadata": {},
     "output_type": "display_data"
    }
   ],
   "source": [
    "plot(c_wintertbl,main=\"Participation in Winter\")"
   ]
  },
  {
   "cell_type": "markdown",
   "metadata": {},
   "source": [
    "From Figure 1 and 2 it is evident that there is significant difference between the participation in each season. \n",
    "The winners’ count in summer goes to 2000 whereas the maximum winners in winter are around 500 which explain about the participation and the number of events they could possibly have.\n",
    "\n",
    "Number of participants in each season can be computed using:\n"
   ]
  },
  {
   "cell_type": "code",
   "execution_count": 5,
   "metadata": {},
   "outputs": [
    {
     "data": {
      "text/html": [
       "<table>\n",
       "<caption>A tibble: 1 × 1</caption>\n",
       "<thead>\n",
       "\t<tr><th scope=col>n</th></tr>\n",
       "\t<tr><th scope=col>&lt;int&gt;</th></tr>\n",
       "</thead>\n",
       "<tbody>\n",
       "\t<tr><td>25341</td></tr>\n",
       "</tbody>\n",
       "</table>\n"
      ],
      "text/latex": [
       "A tibble: 1 × 1\n",
       "\\begin{tabular}{l}\n",
       " n\\\\\n",
       " <int>\\\\\n",
       "\\hline\n",
       "\t 25341\\\\\n",
       "\\end{tabular}\n"
      ],
      "text/markdown": [
       "\n",
       "A tibble: 1 × 1\n",
       "\n",
       "| n &lt;int&gt; |\n",
       "|---|\n",
       "| 25341 |\n",
       "\n"
      ],
      "text/plain": [
       "  n    \n",
       "1 25341"
      ]
     },
     "metadata": {},
     "output_type": "display_data"
    }
   ],
   "source": [
    "summer=filter(athlete_events,Season==\"Summer\")\n",
    "count(summer)\n"
   ]
  },
  {
   "cell_type": "code",
   "execution_count": 6,
   "metadata": {},
   "outputs": [
    {
     "data": {
      "text/html": [
       "<table>\n",
       "<caption>A tibble: 1 × 1</caption>\n",
       "<thead>\n",
       "\t<tr><th scope=col>n</th></tr>\n",
       "\t<tr><th scope=col>&lt;int&gt;</th></tr>\n",
       "</thead>\n",
       "<tbody>\n",
       "\t<tr><td>4840</td></tr>\n",
       "</tbody>\n",
       "</table>\n"
      ],
      "text/latex": [
       "A tibble: 1 × 1\n",
       "\\begin{tabular}{l}\n",
       " n\\\\\n",
       " <int>\\\\\n",
       "\\hline\n",
       "\t 4840\\\\\n",
       "\\end{tabular}\n"
      ],
      "text/markdown": [
       "\n",
       "A tibble: 1 × 1\n",
       "\n",
       "| n &lt;int&gt; |\n",
       "|---|\n",
       "| 4840 |\n",
       "\n"
      ],
      "text/plain": [
       "  n   \n",
       "1 4840"
      ]
     },
     "metadata": {},
     "output_type": "display_data"
    }
   ],
   "source": [
    "Winter=filter(athlete_events,Season==\"Winter\")\n",
    "count(Winter)\n"
   ]
  },
  {
   "cell_type": "markdown",
   "metadata": {},
   "source": [
    "### List of Sport in each season:\n"
   ]
  },
  {
   "cell_type": "code",
   "execution_count": 7,
   "metadata": {},
   "outputs": [
    {
     "data": {
      "text/plain": [
       "                       \n",
       "                        Summer\n",
       "  Archery                  206\n",
       "  Art Competitions           2\n",
       "  Athletics               3648\n",
       "  Badminton                154\n",
       "  Baseball                 333\n",
       "  Basketball              1000\n",
       "  Beach Volleyball          68\n",
       "  Boxing                   708\n",
       "  Canoeing                1041\n",
       "  Cycling                  845\n",
       "  Diving                   318\n",
       "  Equestrianism            663\n",
       "  Fencing                 1109\n",
       "  Figure Skating             2\n",
       "  Football                1084\n",
       "  Golf                       4\n",
       "  Gymnastics              1161\n",
       "  Handball                 937\n",
       "  Hockey                  1168\n",
       "  Ice Hockey                18\n",
       "  Judo                     526\n",
       "  Lacrosse                   2\n",
       "  Modern Pentathlon        153\n",
       "  Rhythmic Gymnastics      124\n",
       "  Rowing                  2104\n",
       "  Rugby                     30\n",
       "  Rugby Sevens              74\n",
       "  Sailing                  677\n",
       "  Shooting                 542\n",
       "  Softball                 172\n",
       "  Swimming                2486\n",
       "  Synchronized Swimming    214\n",
       "  Table Tennis             163\n",
       "  Taekwondo                144\n",
       "  Tennis                   173\n",
       "  Trampolining              29\n",
       "  Triathlon                 30\n",
       "  Tug-Of-War                 8\n",
       "  Volleyball               958\n",
       "  Water Polo               764\n",
       "  Weightlifting            532\n",
       "  Wrestling                967"
      ]
     },
     "metadata": {},
     "output_type": "display_data"
    }
   ],
   "source": [
    "table(summer$Sport,summer$Season)\n"
   ]
  },
  {
   "cell_type": "code",
   "execution_count": 8,
   "metadata": {},
   "outputs": [
    {
     "data": {
      "text/plain": [
       "                           \n",
       "                            Winter\n",
       "  Alpine Skiing                354\n",
       "  Biathlon                     388\n",
       "  Bobsleigh                    283\n",
       "  Cross Country Skiing         687\n",
       "  Curling                      131\n",
       "  Figure Skating               247\n",
       "  Freestyle Skiing             102\n",
       "  Ice Hockey                  1283\n",
       "  Luge                         178\n",
       "  Nordic Combined              137\n",
       "  Short Track Speed Skating    274\n",
       "  Skeleton                      24\n",
       "  Ski Jumping                  175\n",
       "  Snowboarding                  89\n",
       "  Speed Skating                488"
      ]
     },
     "metadata": {},
     "output_type": "display_data"
    }
   ],
   "source": [
    "table(Winter$Sport,Winter$Season)"
   ]
  },
  {
   "cell_type": "markdown",
   "metadata": {},
   "source": [
    "From this we can see that the number of sport is less in winter when compared to summer, correspondingly the participation is also less"
   ]
  },
  {
   "cell_type": "markdown",
   "metadata": {},
   "source": [
    "### Finding whether the variances of both the participation from each Season are equal or not, using F test\n",
    "\n",
    "Using F test we can say whether the data can be used for T testing, even though the size is 35 which is greater than 30, we still use the F and T test for comparison as it is still not a very big number\n",
    "\n",
    "\n",
    "Hence we first conduct the F test \n",
    "\n",
    "Ho: The variances are equal to each other \n",
    "\n",
    "H1: there is significant difference between the variances among the samples (seasons)\n"
   ]
  },
  {
   "cell_type": "code",
   "execution_count": 9,
   "metadata": {},
   "outputs": [
    {
     "data": {
      "text/plain": [
       "\n",
       "\tF test to compare two variances\n",
       "\n",
       "data:  summerdata and winterdata\n",
       "F = 16.567, num df = 28, denom df = 21, p-value = 9.737e-09\n",
       "alternative hypothesis: true ratio of variances is not equal to 1\n",
       "95 percent confidence interval:\n",
       "  7.124355 36.709304\n",
       "sample estimates:\n",
       "ratio of variances \n",
       "          16.56689 \n"
      ]
     },
     "metadata": {},
     "output_type": "display_data"
    }
   ],
   "source": [
    "summer=filter(athlete_events,Season==\"Summer\")\n",
    "winter=filter(athlete_events,Season==\"Winter\")\n",
    "c_summertbl=table(summer$Year,summer$Season)\n",
    "c_wintertbl=table(winter$Year,winter$Season)\n",
    "summerdata=c_summertbl[,1]\n",
    "winterdata=c_wintertbl[,1]\n",
    "var.test(summerdata,winterdata)\n"
   ]
  },
  {
   "cell_type": "markdown",
   "metadata": {},
   "source": [
    "Interpretation:\n",
    "\n",
    "It is evident that the p value is very small hence we reject Null hypothesis. Hence we can say that the Variances are unequal. There is no need to conduct the t test.\n",
    "\n",
    "### Assuming the variances are true, we conduct t test\n",
    "We conduct t test to check whether there is any significant differences between the mean of the two season participation to check the equivalence of averages.\n",
    "\n",
    "Hence the null hypothesis becomes,\n",
    "\n",
    "Ho: the means of the samples are equal.\n",
    "\n",
    "H1: the means of the samples are unequal.\n",
    "\n"
   ]
  },
  {
   "cell_type": "code",
   "execution_count": 10,
   "metadata": {},
   "outputs": [
    {
     "data": {
      "text/plain": [
       "\n",
       "\tTwo Sample t-test\n",
       "\n",
       "data:  summerdata and winterdata\n",
       "t = 3.945, df = 49, p-value = 0.0002542\n",
       "alternative hypothesis: true difference in means is not equal to 0\n",
       "95 percent confidence interval:\n",
       " 320.7691 986.8861\n",
       "sample estimates:\n",
       "mean of x mean of y \n",
       " 873.8276  220.0000 \n"
      ]
     },
     "metadata": {},
     "output_type": "display_data"
    }
   ],
   "source": [
    "t.test(summerdata,winterdata,var.equal = TRUE)"
   ]
  },
  {
   "cell_type": "markdown",
   "metadata": {},
   "source": [
    "Interpretation:\n",
    "\n",
    "It is evident that the p value is very small hence we reject Null hypothesis. Hence we can say that the Means are unequal.\n",
    "\n",
    "### To check in the association in the prices won with gender\n",
    "\n",
    "To check the association among the variables we conduct the Chi-square test.\n",
    "\n",
    "Null hypothesis, \n",
    "Ho: there is no association among the Variables (The variables don’t affect each other) \n",
    "\n",
    "Alternative hypothesis, \n",
    "H1: there is association among the Variables (The variables have some effect on each other)\n"
   ]
  },
  {
   "cell_type": "code",
   "execution_count": 11,
   "metadata": {},
   "outputs": [
    {
     "data": {
      "text/plain": [
       "   \n",
       "    Bronze Gold Silver\n",
       "  F   3475 3437   3438\n",
       "  M   6673 6730   6428"
      ]
     },
     "metadata": {},
     "output_type": "display_data"
    }
   ],
   "source": [
    "athlete_eventstbl=table (athlete_events$Sex,athlete_events$Medal)\n",
    "athlete_eventstbl"
   ]
  },
  {
   "cell_type": "code",
   "execution_count": 12,
   "metadata": {},
   "outputs": [
    {
     "data": {
      "text/plain": [
       "\n",
       "\tPearson's Chi-squared test\n",
       "\n",
       "data:  athlete_eventstbl\n",
       "X-squared = 2.4273, df = 2, p-value = 0.2971\n"
      ]
     },
     "metadata": {},
     "output_type": "display_data"
    }
   ],
   "source": [
    "chisq.test(athlete_eventstbl) "
   ]
  },
  {
   "cell_type": "markdown",
   "metadata": {},
   "source": [
    "Since the p value is greater than 0.05, null hypothesis accepted. Hence we can say that there is no effect on gender on the medals won, hence there is equal chances for men and women to win an Olympic event given that they participate accordingly.\n",
    "\n",
    "### How height and weight are related to each other\n",
    "To check the association among the height and weight of a participant, we conduct the Chi-square test. Null hypothesis, \n",
    "\n",
    "Ho: there is no association among height and weight (The variables don’t affect each other) Alternative hypothesis, \n",
    "\n",
    "H1: there is association among the height and weight (The variables have some effect on each other)\n"
   ]
  },
  {
   "cell_type": "code",
   "execution_count": 13,
   "metadata": {},
   "outputs": [
    {
     "name": "stderr",
     "output_type": "stream",
     "text": [
      "Warning message in chisq.test(tbl):\n",
      "\"Chi-squared approximation may be incorrect\""
     ]
    },
    {
     "data": {
      "text/plain": [
       "\n",
       "\tPearson's Chi-squared test\n",
       "\n",
       "data:  tbl\n",
       "X-squared = 14348, df = 12, p-value < 2.2e-16\n"
      ]
     },
     "metadata": {},
     "output_type": "display_data"
    }
   ],
   "source": [
    "#how height and weight are related to each other\n",
    "htint=seq(min(athlete_events$Height),max(athlete_events$Height),by=20)\n",
    "wtint=seq(min(athlete_events$Weight),max(athlete_events$Weight),by=30)\n",
    "tbl=table(cut(athlete_events$Height,htint),cut(athlete_events$Weight,wtint))\n",
    "chisq.test(tbl)# there is association\n"
   ]
  },
  {
   "cell_type": "markdown",
   "metadata": {},
   "source": [
    "Result:\n",
    "The p value is smaller than 0.05 hence, the null hypothesis. that is, there is significant diiference in the weight of an individual based on his/ her height\n",
    "\n",
    "### Plotting the association:\n"
   ]
  },
  {
   "cell_type": "code",
   "execution_count": 14,
   "metadata": {},
   "outputs": [
    {
     "data": {
      "image/png": "[encoded data removed]",
      "text/plain": [
       "plot without title"
      ]
     },
     "metadata": {},
     "output_type": "display_data"
    }
   ],
   "source": [
    "library(ggplot2)\n",
    "ggplot(athlete_events, aes(x=Weight,y=Height))+\n",
    "  geom_point(aes(col =Medal))+geom_smooth(method = \"lm\",(aes(col =Medal)))+\n",
    "  geom_smooth(method = \"lm\")+\n",
    "  labs(title=\"Weight vs height\",\n",
    "       subtitle = \"From dataset Olymp\",\n",
    "       x=\"Weight\",y=\"height\")\n"
   ]
  },
  {
   "cell_type": "markdown",
   "metadata": {},
   "source": [
    "Note: The plotting is done even based on the Medals won; there is a relatively greater slope for the gold medal winners, which means that the comparatively less heavy people have won Gold. But that cannot be a true statement as the lines are nearly coinciding.\n",
    "Hence from figure 3 the data shows a direct proportion between the variables weight and height.\n",
    "\n",
    "### To analyse whether there is any significant difference between the populatiom body mass index and that of the Olympics participants\n",
    "Given that the mean BMI of the population is 22 Kg/m^2, and variance is 5.44, we conduct the z test with 95% level is significance. The null hypothesis is given by \n",
    "\n",
    "Ho: there is no significant difference between the population body mass index and that of the Olympics participants \n",
    "\n",
    "H1: there is significant difference between the population body mass index and that of the Olympics participants\n"
   ]
  },
  {
   "cell_type": "code",
   "execution_count": 15,
   "metadata": {},
   "outputs": [
    {
     "data": {
      "text/html": [
       "8.75767050061072"
      ],
      "text/latex": [
       "8.75767050061072"
      ],
      "text/markdown": [
       "8.75767050061072"
      ],
      "text/plain": [
       "[1] 8.757671"
      ]
     },
     "metadata": {},
     "output_type": "display_data"
    }
   ],
   "source": [
    "bmi=athlete_events$Weight/(athlete_events$Height/100)^2\n",
    "var(bmi)\n"
   ]
  },
  {
   "cell_type": "markdown",
   "metadata": {},
   "source": [
    "The z test gives a Z value much greater than the tabular z value which is 1.96. So the null hypothesis is accepted\n",
    "\n",
    "Hence there is no significance difference between the mean population BMI and the participants’ BMI. So the Mean and Variance given from the population is not Gender biased.\n",
    "### Finding out whether there is any associaiton between age and price winning\n",
    "\n",
    "To check the association among the age of participants and price winning we conduct the Chi-square test. \n",
    "Null hypothesis, \n",
    "\n",
    "Ho: there is no association among the age of participants and price winning \n",
    "Alternative hypothesis,\n",
    "\n",
    "H1: there is association among the age of participants and price winning (The variables have some effect on each other)\n"
   ]
  },
  {
   "cell_type": "code",
   "execution_count": 16,
   "metadata": {},
   "outputs": [
    {
     "data": {
      "text/plain": [
       "         \n",
       "          Bronze Gold Silver\n",
       "  (13,23]   3841 3957   3743\n",
       "  (23,33]   5691 5606   5526\n",
       "  (33,43]    543  535    523\n",
       "  (43,53]     65   58     59\n",
       "  (53,63]      7    7      9"
      ]
     },
     "metadata": {},
     "output_type": "display_data"
    }
   ],
   "source": [
    "ageint=seq(13,66,by=10)\n",
    "tbl=table(cut(athlete_events$Age,ageint),athlete_events$Medal)\n",
    "tbl\n"
   ]
  },
  {
   "cell_type": "code",
   "execution_count": 17,
   "metadata": {},
   "outputs": [
    {
     "data": {
      "text/plain": [
       "\n",
       "\tPearson's Chi-squared test\n",
       "\n",
       "data:  tbl\n",
       "X-squared = 3.7941, df = 8, p-value = 0.8752\n"
      ]
     },
     "metadata": {},
     "output_type": "display_data"
    }
   ],
   "source": [
    "chisq.test(tbl) # no associaiton"
   ]
  },
  {
   "cell_type": "markdown",
   "metadata": {},
   "source": [
    "Result:\n",
    "\n",
    "Since the P value is greater than 0.05, the null hypothesis is accepted and we can say that, there is no association among the age or the ability to win an event in Olympics\n",
    "### Time series Analysis\n",
    "Converting the dataset into a time series dataset\n"
   ]
  },
  {
   "cell_type": "code",
   "execution_count": 18,
   "metadata": {},
   "outputs": [
    {
     "name": "stderr",
     "output_type": "stream",
     "text": [
      "Warning message:\n",
      "\"package 'tseries' was built under R version 3.6.3\"Registered S3 method overwritten by 'quantmod':\n",
      "  method            from\n",
      "  as.zoo.data.frame zoo \n"
     ]
    },
    {
     "data": {
      "image/png": "[encoded data removed]",
      "text/plain": [
       "plot without title"
      ]
     },
     "metadata": {},
     "output_type": "display_data"
    }
   ],
   "source": [
    "library(tseries)\n",
    "tdata=table(athlete_events$Year,athlete_events$Season)\n",
    "timedata=ts(cbind(tdata[,1]+tdata[,2]))\n",
    "ts.plot(timedata)\n"
   ]
  },
  {
   "cell_type": "markdown",
   "metadata": {},
   "source": [
    "Since there are trend components in the time series data set (Figure 4), we have to differentiate the time series and test the stationarity using Augmented Dickey fuller test and if the p value is greater than 0.05, it mean that the dataset needs to be differentiated over again.\n"
   ]
  },
  {
   "cell_type": "code",
   "execution_count": 19,
   "metadata": {},
   "outputs": [
    {
     "data": {
      "text/plain": [
       "\n",
       "\tAugmented Dickey-Fuller Test\n",
       "\n",
       "data:  timedata\n",
       "Dickey-Fuller = -1.5282, Lag order = 3, p-value = 0.7563\n",
       "alternative hypothesis: stationary\n"
      ]
     },
     "metadata": {},
     "output_type": "display_data"
    }
   ],
   "source": [
    "library(tseries)\n",
    "adf.test(timedata)\n"
   ]
  },
  {
   "cell_type": "code",
   "execution_count": 20,
   "metadata": {},
   "outputs": [
    {
     "data": {
      "text/plain": [
       "\n",
       "\tAugmented Dickey-Fuller Test\n",
       "\n",
       "data:  d1\n",
       "Dickey-Fuller = -2.8967, Lag order = 3, p-value = 0.2256\n",
       "alternative hypothesis: stationary\n"
      ]
     },
     "metadata": {},
     "output_type": "display_data"
    }
   ],
   "source": [
    "d1=diff(timedata)\n",
    "\n",
    "adf.test(d1) # our result is still not stationary\n"
   ]
  },
  {
   "cell_type": "code",
   "execution_count": 21,
   "metadata": {},
   "outputs": [
    {
     "name": "stderr",
     "output_type": "stream",
     "text": [
      "Warning message in adf.test(d2):\n",
      "\"p-value smaller than printed p-value\""
     ]
    },
    {
     "data": {
      "text/plain": [
       "\n",
       "\tAugmented Dickey-Fuller Test\n",
       "\n",
       "data:  d2\n",
       "Dickey-Fuller = -4.7409, Lag order = 3, p-value = 0.01\n",
       "alternative hypothesis: stationary\n"
      ]
     },
     "metadata": {},
     "output_type": "display_data"
    },
    {
     "data": {
      "image/png": "[encoded data removed]",
      "text/plain": [
       "plot without title"
      ]
     },
     "metadata": {},
     "output_type": "display_data"
    }
   ],
   "source": [
    "d2=diff(d1)\n",
    "ts.plot(d2)\n",
    "\n",
    "adf.test(d2) # hence our result is stationary\n"
   ]
  },
  {
   "cell_type": "markdown",
   "metadata": {},
   "source": [
    "The non- stationary component has highly affected the data, hence there was need to differentiate them twice before reaching a stationary dataset.\n",
    "\n",
    "The plot now shows the stationary time series plot of the actual data\n",
    "### Forecasting\n"
   ]
  },
  {
   "cell_type": "code",
   "execution_count": 22,
   "metadata": {},
   "outputs": [
    {
     "name": "stderr",
     "output_type": "stream",
     "text": [
      "Warning message:\n",
      "\"package 'forecast' was built under R version 3.6.3\""
     ]
    },
    {
     "data": {
      "image/png": "[encoded data removed]",
      "text/plain": [
       "Plot with title \"Forecasts from ETS(M,A,N)\""
      ]
     },
     "metadata": {},
     "output_type": "display_data"
    }
   ],
   "source": [
    "library(forecast)\n",
    "fore_athlete <- forecast(timedata, h=4)\n",
    "plot(fore_athlete)\n"
   ]
  },
  {
   "cell_type": "markdown",
   "metadata": {},
   "source": [
    "Hence, from figure 6, we can see that the future participation is a constant increase but the slope (participation) is very minutely to increase in the fore coming years.\n",
    "### Holt winters Filtering\n",
    "The Holt-Winters algorithm is used for forecasting and it is a time-series forecasting method. Time series forecasting methods are used to extract and analyze data and statistics and characterize results to more accurately predict the future based on historical data.\n"
   ]
  },
  {
   "cell_type": "code",
   "execution_count": 23,
   "metadata": {},
   "outputs": [
    {
     "data": {
      "text/plain": [
       "Holt-Winters exponential smoothing with trend and without seasonal component.\n",
       "\n",
       "Call:\n",
       "HoltWinters(x = timedata, gamma = FALSE)\n",
       "\n",
       "Smoothing parameters:\n",
       " alpha: 0.2385244\n",
       " beta : 0\n",
       " gamma: FALSE\n",
       "\n",
       "Coefficients:\n",
       "      [,1]\n",
       "a 1417.041\n",
       "b   18.000"
      ]
     },
     "metadata": {},
     "output_type": "display_data"
    }
   ],
   "source": [
    "filt <- HoltWinters(timedata, gamma=FALSE) \n",
    "filt\n"
   ]
  },
  {
   "cell_type": "code",
   "execution_count": 24,
   "metadata": {},
   "outputs": [
    {
     "data": {
      "text/html": [
       "11417204.0042627"
      ],
      "text/latex": [
       "11417204.0042627"
      ],
      "text/markdown": [
       "11417204.0042627"
      ],
      "text/plain": [
       "[1] 11417204"
      ]
     },
     "metadata": {},
     "output_type": "display_data"
    }
   ],
   "source": [
    "filt$SSE"
   ]
  },
  {
   "cell_type": "code",
   "execution_count": 25,
   "metadata": {},
   "outputs": [
    {
     "data": {
      "image/png": "[encoded data removed]",
      "text/plain": [
       "Plot with title \"Holt-Winters filtering\""
      ]
     },
     "metadata": {},
     "output_type": "display_data"
    }
   ],
   "source": [
    "plot(filt)\n"
   ]
  },
  {
   "cell_type": "markdown",
   "metadata": {},
   "source": [
    "Hence, from Figure 7, it is evident that a smoothed time series data is obtained. This can help is further approaches to predict the future values and hence the organizers can be ready and prepared for providing resources for the whole set of Olympians to come and witness the grand competition.\n",
    "\n",
    "## CONCLUSION:\n",
    "\n",
    "The Olympics help for the last 120 years have gone through many changes. Winter and Summer Olympics happen only one in two year alternatively from 1992 which wasn’t so before from 1896. Even the number of games and the type of games evolved gradually within these 120 years. We can never be sure about how many other games would emerge the next years even through predictive analysis. The origin of new games is also based on the popularity of the game and the passion of player as well as the association agreeing to add the new game into the list of events.\n",
    "\n",
    "The number of participants will increase in a very gradual level in the fore coming years (from Figure 6). This forecasting will help in the organizers to be prepared to provide resources for the participants and preparing the charts even before the participant list is completely set. \n",
    "\n",
    "There are many games in Olympics that are separated based on gender, but games such as Archery is not differentiated on gender. For the events held, there is no significant association among the gender or the medals won. The participation of female has greatly emerged from 1980. The female participation has peaked in 2016 and is expected to keep increasing even for the next decades. The male participation has been rather irregular, there have been times when the participation of male decreased one year and increased the next. There was a vast difference among the male and female participation which is now neared from the last decade.\n",
    "\n",
    "There is also no association among the age of a participant and the medals they achieve, so the general perception that younger a person is , more the chance of winning , is false and needs to be rectified.\n",
    "\n",
    "The participants of Olympics have managed to keep up with the normal Body mass index, and have shown that they are not very different from others in terms of bodily characteristics but it is all based on their hard work, skills and training.\n",
    "\n",
    "These analysis has helped in testing statistically whether the participants have any induced medication in their body that have enhanced their performance that is unethical and a punishable offence.\n",
    "\n",
    "The winter and summer games have a lot of difference between them. The participation is immense in Summer Games when compared to the participation in Winter Games, Summer games have Four time more participants than in winter games. Even the list of events is greater in  the Summer Games. \n",
    "\n",
    "USA has won most of the medals in past years and Russia has the 2nd most medals won followed by Germany and so on. As per the growth of US Olympic team, there we can do necessary conclusion that US would stay in the lead of the most Medals won even in the next few years.\n"
   ]
  },
  {
   "cell_type": "code",
   "execution_count": null,
   "metadata": {},
   "outputs": [],
   "source": []
  }
 ],
 "metadata": {
  "kernelspec": {
   "display_name": "R",
   "language": "R",
   "name": "ir"
  },
  "language_info": {
   "codemirror_mode": "r",
   "file_extension": ".r",
   "mimetype": "text/x-r-source",
   "name": "R",
   "pygments_lexer": "r",
   "version": "3.6.1"
  }
 },
 "nbformat": 4,
 "nbformat_minor": 2
}
